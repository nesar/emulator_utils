{
 "cells": [
  {
   "cell_type": "code",
   "execution_count": 1,
   "id": "740f552b-2228-463c-9b2a-a5e7366c8448",
   "metadata": {},
   "outputs": [],
   "source": [
    "from emulator_utils.pre_process import log_standard, minmax, unscale\n",
    "from emulator_utils.read_data import readpowerspec\n",
    "from emulator_utils.split import random_holdout\n",
    "from emulator_utils.surrogates import simple_mlp, train_mlp, save_mlp, load_mlp"
   ]
  },
  {
   "cell_type": "code",
   "execution_count": 2,
   "id": "ca2f9e48-311a-475d-b477-f4ae34f79af5",
   "metadata": {},
   "outputs": [],
   "source": [
    "import matplotlib.pylab as plt\n",
    "import numpy as np\n",
    "from glob import glob"
   ]
  },
  {
   "cell_type": "code",
   "execution_count": null,
   "id": "981ab3d2-2147-4a21-bd79-63d7b3dbd9e9",
   "metadata": {},
   "outputs": [],
   "source": []
  },
  {
   "cell_type": "code",
   "execution_count": null,
   "id": "dc26632c-a959-4c0e-b079-fcdcc6226f11",
   "metadata": {},
   "outputs": [],
   "source": [
    "scaled, scaler = log_standard(pk_all)"
   ]
  },
  {
   "cell_type": "code",
   "execution_count": null,
   "id": "2a4e5701-0b60-4a91-943e-0bd7471c22ee",
   "metadata": {},
   "outputs": [],
   "source": [
    "params = np.arange(scaled.shape[0]).reshape(-1, 1)\n",
    "scaled_y, scaler_y = minmax(params)"
   ]
  },
  {
   "cell_type": "code",
   "execution_count": null,
   "id": "8e50c11b-a142-4e7e-a5bd-013764bf6d5a",
   "metadata": {},
   "outputs": [],
   "source": [
    "pk_train, pk_test, param_train, param_test = random_holdout(scaled, params, split_fraction = 0.2)"
   ]
  },
  {
   "cell_type": "code",
   "execution_count": null,
   "id": "4baa2d0a-d28d-4524-9274-b9bfed95b684",
   "metadata": {},
   "outputs": [],
   "source": [
    "mlp = simple_mlp(input_shape=param_train.shape[1], \n",
    "                 output_shape=pk_train.shape[1], \n",
    "                 hidden_dims=[16, 128, 1024, 4096])"
   ]
  },
  {
   "cell_type": "markdown",
   "id": "edc35d2a-1e3f-4350-9316-e8159783e9d9",
   "metadata": {},
   "source": [
    "### Setting Hyper-parameters"
   ]
  },
  {
   "cell_type": "code",
   "execution_count": null,
   "id": "8d5fb057-c44d-4dae-a1af-fb861b42a8de",
   "metadata": {},
   "outputs": [],
   "source": [
    "learning_rate = 0.01\n",
    "decay_rate = 0.01\n",
    "batch_size = 10\n",
    "num_epochs = 100"
   ]
  },
  {
   "cell_type": "code",
   "execution_count": null,
   "id": "11d68ac6-8683-431c-afd2-2660b824111a",
   "metadata": {},
   "outputs": [],
   "source": [
    "mlp, train_history = train_mlp(mlp, \n",
    "                    param_train, pk_train, param_test, pk_test, \n",
    "                    learning_rate, decay_rate, num_epochs, batch_size)"
   ]
  },
  {
   "cell_type": "code",
   "execution_count": null,
   "id": "77391fa1-39f8-4988-ab27-72cbc8e57b7d",
   "metadata": {},
   "outputs": [],
   "source": [
    "save_mlp(mlp, '../test/model/phot_mlp')\n",
    "mlp = load_mlp('../test/model/phot_mlp')"
   ]
  },
  {
   "cell_type": "code",
   "execution_count": null,
   "id": "fb26b93e-6f24-4dd2-8c14-2f7467636475",
   "metadata": {},
   "outputs": [],
   "source": [
    "mlp_pred = mlp.predict(param_test)\n",
    "pk_pred = unscale(mlp_pred, scaler)"
   ]
  },
  {
   "cell_type": "markdown",
   "id": "5ac920c4-c380-4f02-98e9-e01820e0d1ad",
   "metadata": {},
   "source": [
    "### Local explainers"
   ]
  },
  {
   "cell_type": "code",
   "execution_count": null,
   "id": "1936545b-ea62-4606-a1af-a6ad3658176f",
   "metadata": {},
   "outputs": [],
   "source": [
    "from emulator_utils.explainer import shap_estimate\n",
    "from emulator_utils.explainer import plot_shap_summary_single, plot_shap_summary_multiple\n",
    "from emulator_utils.explainer import plot_shap_force_single, plot_shap_force_multiple"
   ]
  },
  {
   "cell_type": "code",
   "execution_count": null,
   "id": "713ecb6c-ac1b-4e23-bbb7-13cf2ef7c016",
   "metadata": {},
   "outputs": [],
   "source": [
    "explainer, shap_values, expected_values = shap_estimate(mlp, param_train, param_test, ['redshift'], ['pk'])"
   ]
  },
  {
   "cell_type": "code",
   "execution_count": null,
   "id": "bf9d32b4-13af-446f-957b-6ad85cf8e115",
   "metadata": {},
   "outputs": [],
   "source": [
    "output_indx = 100  ## k-bin value\n",
    "plot_shap_summary_single(shap_values[output_indx], param_test, ['redshift'], plot_type='violin')"
   ]
  },
  {
   "cell_type": "code",
   "execution_count": null,
   "id": "1cfcdad7-ba83-44d0-a366-91dca056b0eb",
   "metadata": {},
   "outputs": [],
   "source": [
    "plot_shap_summary_multiple(shap_values[:4000:200], param_test, ['redshift'], plot_type='bar')"
   ]
  },
  {
   "cell_type": "code",
   "execution_count": null,
   "id": "e5657fce-dfe3-472b-ae04-337ee4f156ce",
   "metadata": {},
   "outputs": [],
   "source": [
    "plot_shap_force_multiple(expected_values, shap_values, ['redshift'], ['pk'], 0)"
   ]
  },
  {
   "cell_type": "code",
   "execution_count": null,
   "id": "e3826a3c-17b5-4652-9bcf-97a01081cdc1",
   "metadata": {},
   "outputs": [],
   "source": [
    "plot_shap_force_single(expected_values, shap_values, ['redshift'], ['pk'], 0, 11)"
   ]
  }
 ],
 "metadata": {
  "kernelspec": {
   "display_name": "Python 3 (ipykernel)",
   "language": "python",
   "name": "python3"
  },
  "language_info": {
   "codemirror_mode": {
    "name": "ipython",
    "version": 3
   },
   "file_extension": ".py",
   "mimetype": "text/x-python",
   "name": "python",
   "nbconvert_exporter": "python",
   "pygments_lexer": "ipython3",
   "version": "3.9.7"
  }
 },
 "nbformat": 4,
 "nbformat_minor": 5
}
