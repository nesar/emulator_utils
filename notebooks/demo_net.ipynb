{
 "cells": [
  {
   "cell_type": "code",
   "execution_count": 1,
   "id": "64cc81bb-b519-4367-a001-786d36dcc2da",
   "metadata": {},
   "outputs": [],
   "source": [
    "from emulator_utils.pre_process import log_standard, minmax, unscale\n",
    "from emulator_utils.read_data import readpowerspec\n",
    "from emulator_utils.split import random_holdout\n",
    "from emulator_utils.surrogates import simple_mlp, train_mlp, save_mlp, load_mlp"
   ]
  },
  {
   "cell_type": "code",
   "execution_count": 2,
   "id": "2e491cb8-0c1c-451d-9f53-b0145f0c99e9",
   "metadata": {},
   "outputs": [],
   "source": [
    "import matplotlib.pylab as plt\n",
    "import numpy as np\n",
    "from glob import glob"
   ]
  },
  {
   "cell_type": "markdown",
   "id": "ddbab044-ba41-4db6-84ee-ee4e3d6d61a7",
   "metadata": {},
   "source": [
    "### Reading spectra"
   ]
  },
  {
   "cell_type": "code",
   "execution_count": 3,
   "id": "6c6b2ef1-1d6e-4899-b753-32f18a933dd9",
   "metadata": {},
   "outputs": [],
   "source": [
    "k, _, _, _ = readpowerspec('../test/data/powerspec_LJ/m000p.pk.499')\n",
    "fnames = glob('../test/data/powerspec_LJ/*')\n",
    "pk_all = np.array([readpowerspec(f)[1] for f in fnames])"
   ]
  },
  {
   "cell_type": "markdown",
   "id": "ff717c80-ba6c-4295-808f-154247c66165",
   "metadata": {},
   "source": [
    "### Using a pre-processing pipeline"
   ]
  },
  {
   "cell_type": "code",
   "execution_count": 4,
   "id": "757c6646-a0d9-48b6-9ee6-b33b833448b4",
   "metadata": {},
   "outputs": [],
   "source": [
    "scaled, scaler = log_standard(pk_all)"
   ]
  },
  {
   "cell_type": "markdown",
   "id": "b6ca5ef4-93cd-465f-a986-5a94497edf9c",
   "metadata": {},
   "source": [
    "### Using mock data here, will be rescaled as well"
   ]
  },
  {
   "cell_type": "code",
   "execution_count": 5,
   "id": "93195709-950c-425f-a6db-7c53d3bf6faa",
   "metadata": {},
   "outputs": [],
   "source": [
    "params = np.arange(scaled.shape[0]).reshape(-1, 1)\n",
    "scaled_y, scaler_y = minmax(params)"
   ]
  },
  {
   "cell_type": "code",
   "execution_count": 6,
   "id": "db691e49-6150-4d0c-b2f1-ddaee0afe070",
   "metadata": {},
   "outputs": [],
   "source": [
    "pk_train, pk_test, param_train, param_test = random_holdout(scaled, params, split_fraction = 0.2)"
   ]
  },
  {
   "cell_type": "code",
   "execution_count": 7,
   "id": "f77a7c01-8a7d-46ee-a977-0727a4a5ead5",
   "metadata": {},
   "outputs": [
    {
     "data": {
      "text/plain": [
       "Text(0, 0.5, 'Pk')"
      ]
     },
     "execution_count": 7,
     "metadata": {},
     "output_type": "execute_result"
    },
    {
     "data": {
      "image/png": "[encoded data removed]",
      "text/plain": [
       "<Figure size 432x288 with 1 Axes>"
      ]
     },
     "metadata": {
      "needs_background": "light"
     },
     "output_type": "display_data"
    }
   ],
   "source": [
    "plt.figure(1)\n",
    "plt.plot(k, pk_train.T, 'k', alpha=0.3)\n",
    "plt.plot(k, pk_test.T, 'r', alpha=0.7)\n",
    "# plt.xscale('log')\n",
    "# plt.yscale('log')\n",
    "plt.xlabel('k')\n",
    "plt.ylabel('Pk')"
   ]
  },
  {
   "cell_type": "markdown",
   "id": "f5c0ddb0-5beb-43cd-900b-a343a38ed4b8",
   "metadata": {},
   "source": [
    "### Sample neural network "
   ]
  },
  {
   "cell_type": "markdown",
   "id": "d7811a9e-04a7-4af3-8bb3-87736eaf4af4",
   "metadata": {},
   "source": [
    "### Fixing the network architecture (hidden_dims is flexible)"
   ]
  },
  {
   "cell_type": "code",
   "execution_count": null,
   "id": "a08d7468-b2c9-43cc-9c99-ced1e69027a1",
   "metadata": {},
   "outputs": [],
   "source": [
    "mlp = simple_mlp(input_shape=param_train.shape[1], output_shape=pk_train.shape[1], hidden_dims=[16, 32, 64, 512])"
   ]
  },
  {
   "cell_type": "markdown",
   "id": "9e69132e-1c41-42f9-9540-0d4bf6defa8d",
   "metadata": {},
   "source": [
    "### Set-up hyper-parameters"
   ]
  },
  {
   "cell_type": "code",
   "execution_count": null,
   "id": "5852654d-c30d-4ead-95c5-f8ee1e38a419",
   "metadata": {},
   "outputs": [],
   "source": [
    "learning_rate = 0.01\n",
    "decay_rate = 0.1\n",
    "batch_size = 4\n",
    "num_epochs = 10"
   ]
  },
  {
   "cell_type": "code",
   "execution_count": null,
   "id": "03f5c2f7-59a4-47b3-af26-84071830ba8d",
   "metadata": {},
   "outputs": [],
   "source": [
    "mlp, train_history = train_mlp(mlp, \n",
    "                    param_train, pk_train, param_test, pk_test, \n",
    "                    learning_rate, decay_rate, batch_size, num_epochs)"
   ]
  },
  {
   "cell_type": "code",
   "execution_count": null,
   "id": "e22b6005-b452-4019-a47f-d8cb4f4bbd1f",
   "metadata": {},
   "outputs": [],
   "source": []
  },
  {
   "cell_type": "code",
   "execution_count": null,
   "id": "336dba41-b3c8-47f0-9fc3-3af028a5a3ec",
   "metadata": {},
   "outputs": [],
   "source": [
    "plt.figure(2111)\n",
    "plt.plot(train_history.history['loss'], label = 'loss')\n",
    "plt.plot(train_history.history['val_loss'], label = 'val loss')\n",
    "plt.legend()\n",
    "plt.xlabel('epoch')\n",
    "plt.ylabel('loss')\n",
    "plt.show()"
   ]
  },
  {
   "cell_type": "code",
   "execution_count": null,
   "id": "669c1b01-92b8-432b-ae6e-ede09491353b",
   "metadata": {},
   "outputs": [],
   "source": [
    "save_mlp(mlp, '../test/model/trained_mlp')\n",
    "mlp = load_mlp('../test/model/trained_mlp')"
   ]
  },
  {
   "cell_type": "markdown",
   "id": "1d4773a7-2375-409e-b7e0-a1235ccf2f29",
   "metadata": {},
   "source": [
    "## explainers "
   ]
  },
  {
   "cell_type": "code",
   "execution_count": null,
   "id": "aa7fc916-ba8d-4ae9-8dac-b567c9d948a1",
   "metadata": {},
   "outputs": [],
   "source": [
    "## local SHAP model\n",
    "## global ALE model"
   ]
  }
 ],
 "metadata": {
  "kernelspec": {
   "display_name": "Python 3 (ipykernel)",
   "language": "python",
   "name": "python3"
  },
  "language_info": {
   "codemirror_mode": {
    "name": "ipython",
    "version": 3
   },
   "file_extension": ".py",
   "mimetype": "text/x-python",
   "name": "python",
   "nbconvert_exporter": "python",
   "pygments_lexer": "ipython3",
   "version": "3.9.7"
  }
 },
 "nbformat": 4,
 "nbformat_minor": 5
}
