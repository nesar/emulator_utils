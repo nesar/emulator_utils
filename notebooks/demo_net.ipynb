{
 "cells": [
  {
   "cell_type": "code",
   "execution_count": null,
   "id": "64cc81bb-b519-4367-a001-786d36dcc2da",
   "metadata": {},
   "outputs": [],
   "source": [
    "from emulator_utils.pre_process import log_standard, minmax, unscale\n",
    "from emulator_utils.read_data import readpowerspec\n",
    "from emulator_utils.split import random_holdout\n",
    "from emulator_utils.surrogates import simple_mlp, train_mlp, save_mlp, load_mlp"
   ]
  },
  {
   "cell_type": "code",
   "execution_count": null,
   "id": "2e491cb8-0c1c-451d-9f53-b0145f0c99e9",
   "metadata": {},
   "outputs": [],
   "source": [
    "import matplotlib.pylab as plt\n",
    "import numpy as np\n",
    "from glob import glob"
   ]
  },
  {
   "cell_type": "markdown",
   "id": "ddbab044-ba41-4db6-84ee-ee4e3d6d61a7",
   "metadata": {},
   "source": [
    "### Reading spectra"
   ]
  },
  {
   "cell_type": "code",
   "execution_count": null,
   "id": "6c6b2ef1-1d6e-4899-b753-32f18a933dd9",
   "metadata": {},
   "outputs": [],
   "source": [
    "k, _, _, _ = readpowerspec('../test/data/powerspec_LJ/m000p.pk.499')\n",
    "fnames = glob('../test/data/powerspec_LJ/*')\n",
    "pk_all = np.array([readpowerspec(f)[1] for f in fnames])"
   ]
  },
  {
   "cell_type": "markdown",
   "id": "ff717c80-ba6c-4295-808f-154247c66165",
   "metadata": {},
   "source": [
    "### Using a pre-processing pipeline"
   ]
  },
  {
   "cell_type": "code",
   "execution_count": null,
   "id": "757c6646-a0d9-48b6-9ee6-b33b833448b4",
   "metadata": {},
   "outputs": [],
   "source": [
    "scaled, scaler = log_standard(pk_all)"
   ]
  },
  {
   "cell_type": "markdown",
   "id": "b6ca5ef4-93cd-465f-a986-5a94497edf9c",
   "metadata": {},
   "source": [
    "### Using mock data here, will be rescaled as well"
   ]
  },
  {
   "cell_type": "code",
   "execution_count": null,
   "id": "93195709-950c-425f-a6db-7c53d3bf6faa",
   "metadata": {},
   "outputs": [],
   "source": [
    "params = np.arange(scaled.shape[0]).reshape(-1, 1)\n",
    "scaled_y, scaler_y = minmax(params)"
   ]
  },
  {
   "cell_type": "code",
   "execution_count": null,
   "id": "db691e49-6150-4d0c-b2f1-ddaee0afe070",
   "metadata": {},
   "outputs": [],
   "source": [
    "pk_train, pk_test, param_train, param_test = random_holdout(scaled, params, split_fraction = 0.2)"
   ]
  },
  {
   "cell_type": "code",
   "execution_count": null,
   "id": "f77a7c01-8a7d-46ee-a977-0727a4a5ead5",
   "metadata": {},
   "outputs": [],
   "source": [
    "plt.figure(1)\n",
    "plt.plot(k, pk_train.T, 'k', alpha=0.3)\n",
    "plt.plot(k, pk_test.T, 'r', alpha=0.7)\n",
    "# plt.xscale('log')\n",
    "# plt.yscale('log')\n",
    "plt.xlabel('k')\n",
    "plt.ylabel('Pk')"
   ]
  },
  {
   "cell_type": "markdown",
   "id": "f5c0ddb0-5beb-43cd-900b-a343a38ed4b8",
   "metadata": {},
   "source": [
    "### Sample neural network "
   ]
  },
  {
   "cell_type": "markdown",
   "id": "d7811a9e-04a7-4af3-8bb3-87736eaf4af4",
   "metadata": {},
   "source": [
    "### Fixing the network architecture (hidden_dims is flexible)"
   ]
  },
  {
   "cell_type": "code",
   "execution_count": null,
   "id": "a08d7468-b2c9-43cc-9c99-ced1e69027a1",
   "metadata": {},
   "outputs": [],
   "source": [
    "mlp = simple_mlp(input_shape=param_train.shape[1], \n",
    "                 output_shape=pk_train.shape[1], \n",
    "                 hidden_dims=[16, 128, 1024, 4096])"
   ]
  },
  {
   "cell_type": "markdown",
   "id": "9e69132e-1c41-42f9-9540-0d4bf6defa8d",
   "metadata": {},
   "source": [
    "### Set-up hyper-parameters"
   ]
  },
  {
   "cell_type": "code",
   "execution_count": null,
   "id": "5852654d-c30d-4ead-95c5-f8ee1e38a419",
   "metadata": {},
   "outputs": [],
   "source": [
    "learning_rate = 0.01\n",
    "decay_rate = 0.01\n",
    "batch_size = 10\n",
    "num_epochs = 10"
   ]
  },
  {
   "cell_type": "code",
   "execution_count": null,
   "id": "03f5c2f7-59a4-47b3-af26-84071830ba8d",
   "metadata": {},
   "outputs": [],
   "source": [
    "mlp, train_history = train_mlp(mlp, \n",
    "                    param_train, pk_train, param_test, pk_test, \n",
    "                    learning_rate, decay_rate, num_epochs, batch_size)"
   ]
  },
  {
   "cell_type": "code",
   "execution_count": null,
   "id": "336dba41-b3c8-47f0-9fc3-3af028a5a3ec",
   "metadata": {},
   "outputs": [],
   "source": [
    "plt.figure(2111)\n",
    "plt.plot(train_history.history['loss'], label = 'loss')\n",
    "plt.plot(train_history.history['val_loss'], label = 'val loss')\n",
    "plt.legend()\n",
    "plt.xlabel('epoch')\n",
    "plt.ylabel('loss')\n",
    "plt.show()"
   ]
  },
  {
   "cell_type": "code",
   "execution_count": null,
   "id": "669c1b01-92b8-432b-ae6e-ede09491353b",
   "metadata": {},
   "outputs": [],
   "source": [
    "save_mlp(mlp, '../test/model/trained_mlp')\n",
    "mlp = load_mlp('../test/model/trained_mlp')"
   ]
  },
  {
   "cell_type": "code",
   "execution_count": null,
   "id": "efaee538-2727-465b-b775-4c38746a25cd",
   "metadata": {},
   "outputs": [],
   "source": [
    "mlp_pred = mlp.predict(param_test)\n",
    "pk_pred = unscale(mlp_pred, scaler)"
   ]
  },
  {
   "cell_type": "code",
   "execution_count": null,
   "id": "de08d659-2a84-4874-b5fd-49483c98ff60",
   "metadata": {},
   "outputs": [],
   "source": [
    "plt.figure(1)\n",
    "plt.plot(k, pk_pred.T, 'r', alpha=0.5)\n",
    "plt.plot(k, unscale(pk_test, scaler).T, 'k', alpha=0.4)\n",
    "\n",
    "plt.xscale('log')\n",
    "plt.yscale('log')\n",
    "plt.xlabel('k')\n",
    "plt.ylabel('Pk')"
   ]
  },
  {
   "cell_type": "markdown",
   "id": "1d4773a7-2375-409e-b7e0-a1235ccf2f29",
   "metadata": {},
   "source": [
    "## explainers "
   ]
  },
  {
   "cell_type": "code",
   "execution_count": null,
   "id": "aa7fc916-ba8d-4ae9-8dac-b567c9d948a1",
   "metadata": {},
   "outputs": [],
   "source": [
    "## local SHAP model\n",
    "## global ALE model"
   ]
  },
  {
   "cell_type": "code",
   "execution_count": null,
   "id": "fc2709e7-7ccd-4294-a6b9-5cdbec16025d",
   "metadata": {},
   "outputs": [],
   "source": [
    "from emulator_utils.explainer import shap_estimate\n",
    "from emulator_utils.explainer import plot_shap_summary_single, plot_shap_summary_multiple\n",
    "from emulator_utils.explainer import plot_shap_force_single, plot_shap_force_multiple"
   ]
  },
  {
   "cell_type": "code",
   "execution_count": null,
   "id": "1b84b5f0-3ead-410a-9966-612d52e96697",
   "metadata": {},
   "outputs": [],
   "source": [
    "# import alibi\n",
    "# from alibi.explainers import KernelShap\n",
    "# from alibi.explainers import IntegratedGradients\n",
    "# from alibi.explainers import ALE\n",
    "# from alibi.explainers import plot_ale\n",
    "\n",
    "# import shap\n",
    "\n",
    "# def shap_estimate(model, training_data, test_data, input_names, output_names):  \n",
    "#     predictor = model.predict\n",
    "#     explainer = shap.KernelExplainer(predictor, training_data, features = input_names, out_names = output_names)\n",
    "#     shap_values = explainer.shap_values(test_data)\n",
    "#     expected_values = explainer.expected_value\n",
    "\n",
    "#     return explainer, shap_values, expected_values\n",
    "\n",
    "# def plot_shap_summary_single(shap_values_single, test_data, input_names, plot_type):   \n",
    "#     p1 = shap.summary_plot(shap_values_single, test_data, feature_names = input_names, plot_type=plot_type)\n",
    "\n",
    "    \n",
    "# def plot_shap_summary_multiple(shap_values, test_data, input_names, plot_type):\n",
    "#     p2 = shap.summary_plot(shap_values, test_data, feature_names = input_names, plot_type=plot_type)\n",
    "\n",
    "\n",
    "# def plot_shap_force_single(expected_values, shap_values, input_names, output_names, out_id, test_id):\n",
    "#     # predictor = model.predict\n",
    "#     # explainer = shap.KernelExplainer(predictor, training_data, features = input_names, out_names = output_names)\n",
    "#     p3 = shap.force_plot(expected_values[out_id], shap_values[out_id][test_id], feature_names = input_names, out_names = output_names[out_id])\n",
    "#     return p3\n",
    "\n",
    "# def plot_shap_force_multiple(expected_values, shap_values, input_names, output_names, out_id):\n",
    "#     # predictor = model.predict\n",
    "#     # explainer = shap.KernelExplainer(predictor, training_data, features = input_names, out_names = output_names)\n",
    "#     # out_id = 0                                                                                                                                   \n",
    "#     p4 = shap.force_plot(explainer.expected_value[out_id], shap_values[out_id], feature_names = input_names, out_names = output_names[out_id])  \n",
    "#     return p4"
   ]
  },
  {
   "cell_type": "code",
   "execution_count": null,
   "id": "c893082f-7a09-4f4f-afa4-b90cdfbc4dd0",
   "metadata": {},
   "outputs": [],
   "source": [
    "explainer, shap_values, expected_values = shap_estimate(mlp, param_train, param_test, ['redshift'], ['pk'])"
   ]
  },
  {
   "cell_type": "code",
   "execution_count": null,
   "id": "9dc64fb2-c46b-43a4-a97a-0f0e3c57064d",
   "metadata": {},
   "outputs": [],
   "source": [
    "output_indx = 100  ## k-bin value\n",
    "plot_shap_summary_single(shap_values[output_indx], param_test, ['redshift'], plot_type='violin')\n",
    "plot_shap_summary_multiple(shap_values[:4000:200], param_test, ['redshift'], plot_type='bar')"
   ]
  },
  {
   "cell_type": "code",
   "execution_count": null,
   "id": "23900d7f-9cfd-451c-b84e-7d1a1b1422fa",
   "metadata": {},
   "outputs": [],
   "source": [
    "plot_shap_force_multiple(expected_values, shap_values, ['redshift'], ['pk'], 0)"
   ]
  },
  {
   "cell_type": "code",
   "execution_count": null,
   "id": "6131ad41-5d6f-4dcf-8e4c-e9201a9732d6",
   "metadata": {},
   "outputs": [],
   "source": [
    "plot_shap_force_single(expected_values, shap_values, ['redshift'], ['pk'], 0, 11)"
   ]
  },
  {
   "cell_type": "code",
   "execution_count": null,
   "id": "99207864-6ee7-46e8-a1bf-d7a161a26c63",
   "metadata": {},
   "outputs": [],
   "source": []
  }
 ],
 "metadata": {
  "kernelspec": {
   "display_name": "Python 3 (ipykernel)",
   "language": "python",
   "name": "python3"
  },
  "language_info": {
   "codemirror_mode": {
    "name": "ipython",
    "version": 3
   },
   "file_extension": ".py",
   "mimetype": "text/x-python",
   "name": "python",
   "nbconvert_exporter": "python",
   "pygments_lexer": "ipython3",
   "version": "3.9.7"
  }
 },
 "nbformat": 4,
 "nbformat_minor": 5
}
