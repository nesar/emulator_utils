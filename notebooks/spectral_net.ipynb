{
 "cells": [
  {
   "cell_type": "code",
   "execution_count": null,
   "id": "740f552b-2228-463c-9b2a-a5e7366c8448",
   "metadata": {},
   "outputs": [],
   "source": [
    "from emulator_utils.pre_process import log_standard, minmax, standard_minmax, unscale\n",
    "from emulator_utils.read_data import readpowerspec\n",
    "from emulator_utils.split import random_holdout\n",
    "from emulator_utils.surrogates import simple_mlp, train_mlp, save_mlp, load_mlp, mcdrop_pred"
   ]
  },
  {
   "cell_type": "code",
   "execution_count": null,
   "id": "ca2f9e48-311a-475d-b477-f4ae34f79af5",
   "metadata": {},
   "outputs": [],
   "source": [
    "import matplotlib.pylab as plt\n",
    "import numpy as np\n",
    "\n",
    "import matplotlib.colors as mcolors\n",
    "import matplotlib.cm as cm"
   ]
  },
  {
   "cell_type": "code",
   "execution_count": null,
   "id": "7b48f3b2-482b-4e99-82cc-6b481538f9bf",
   "metadata": {},
   "outputs": [],
   "source": [
    "mode='train' ## 'test'"
   ]
  },
  {
   "cell_type": "code",
   "execution_count": null,
   "id": "62b35f24-c620-48d5-b840-b49c57823d02",
   "metadata": {},
   "outputs": [],
   "source": [
    "# dirIn = '../test/data/sps_ugrizy/'\n",
    "dirIn = '/lcrc/project/cosmo_ai/nramachandra/Projects/SPHEREx/MAH/TrainingData/Data/'\n",
    "\n",
    "# mags = np.load(dirIn + 'colors.npy')\n",
    "mags = np.load(dirIn + 'spec.npy')\n",
    "\n",
    "ebv = np.load(dirIn + 'ebv.npy')\n",
    "redshift = np.load(dirIn + 'redshift.npy')\n",
    "sfh = np.load(dirIn + 'sfh.npy')"
   ]
  },
  {
   "cell_type": "code",
   "execution_count": null,
   "id": "493e2581-892a-454f-90ab-6db60c17dfe5",
   "metadata": {},
   "outputs": [],
   "source": [
    "sps_inputs = np.concatenate((redshift[np.newaxis, :], ebv[np.newaxis, :], sfh.T), axis=0).T"
   ]
  },
  {
   "cell_type": "code",
   "execution_count": null,
   "id": "dc26632c-a959-4c0e-b079-fcdcc6226f11",
   "metadata": {},
   "outputs": [],
   "source": [
    "scaled, scaler = standard_minmax(sps_inputs)\n",
    "save_scaler(scaler, '../test/model/input_scale')"
   ]
  },
  {
   "cell_type": "code",
   "execution_count": null,
   "id": "2a4e5701-0b60-4a91-943e-0bd7471c22ee",
   "metadata": {},
   "outputs": [],
   "source": [
    "scaled_y, scaler_y = log_standard(mags)\n",
    "save_scaler(scaler_y, '../test/model/output_scale')"
   ]
  },
  {
   "cell_type": "code",
   "execution_count": null,
   "id": "8e50c11b-a142-4e7e-a5bd-013764bf6d5a",
   "metadata": {},
   "outputs": [],
   "source": [
    "param_train, param_test, mag_train, mag_test = random_holdout(scaled, scaled_y, split_fraction = 0.1)"
   ]
  },
  {
   "cell_type": "code",
   "execution_count": null,
   "id": "9484f18e-1bc9-4850-ad2d-0559038a6de2",
   "metadata": {},
   "outputs": [],
   "source": [
    "param_train.shape, mag_train.shape"
   ]
  },
  {
   "cell_type": "code",
   "execution_count": null,
   "id": "4baa2d0a-d28d-4524-9274-b9bfed95b684",
   "metadata": {},
   "outputs": [],
   "source": [
    "mlp = simple_mlp(input_shape=param_train.shape[1], \n",
    "                 output_shape=mag_train.shape[1], \n",
    "                 hidden_dims=[512, 512, 1024, 1024, 2048, 2048, 1024, 1024])"
   ]
  },
  {
   "cell_type": "markdown",
   "id": "edc35d2a-1e3f-4350-9316-e8159783e9d9",
   "metadata": {},
   "source": [
    "### Setting Hyper-parameters"
   ]
  },
  {
   "cell_type": "code",
   "execution_count": null,
   "id": "8d5fb057-c44d-4dae-a1af-fb861b42a8de",
   "metadata": {},
   "outputs": [],
   "source": [
    "learning_rate = 5e-3\n",
    "decay_rate = 0.01\n",
    "batch_size = 256\n",
    "num_epochs = 100"
   ]
  },
  {
   "cell_type": "code",
   "execution_count": null,
   "id": "11d68ac6-8683-431c-afd2-2660b824111a",
   "metadata": {},
   "outputs": [],
   "source": [
    "if (mode=='train'):\n",
    "    mlp, train_history = train_mlp(mlp, \n",
    "                        # param_train, pk_train, param_test, pk_test, \n",
    "                        param_train, mag_train, param_test, mag_test,\n",
    "                        learning_rate, decay_rate, num_epochs, batch_size);\n",
    "\n",
    "    save_mlp(mlp, '../test/model/spec_mlp')\n"
   ]
  },
  {
   "cell_type": "code",
   "execution_count": null,
   "id": "69c257d2-793d-4e70-9400-9a3594a8899c",
   "metadata": {},
   "outputs": [],
   "source": [
    "if (mode=='train'):\n",
    "    plt.figure(2111)\n",
    "    plt.plot(train_history.history['loss'], label = 'loss')\n",
    "    plt.plot(train_history.history['val_loss'], label = 'val loss')\n",
    "    plt.legend()\n",
    "    plt.xlabel('epoch')\n",
    "    plt.ylabel('loss')\n",
    "    plt.show()\n"
   ]
  },
  {
   "cell_type": "code",
   "execution_count": null,
   "id": "77391fa1-39f8-4988-ab27-72cbc8e57b7d",
   "metadata": {},
   "outputs": [],
   "source": [
    "mlp = load_mlp('../test/model/spec_mlp')"
   ]
  },
  {
   "cell_type": "code",
   "execution_count": null,
   "id": "fb26b93e-6f24-4dd2-8c14-2f7467636475",
   "metadata": {},
   "outputs": [],
   "source": []
  },
  {
   "cell_type": "code",
   "execution_count": null,
   "id": "d8ccd69d-e0af-4d5a-a099-09097c48140a",
   "metadata": {},
   "outputs": [],
   "source": [
    "def mag_forward(param_in):\n",
    "    redshift_in = param_in[:, 0]\n",
    "    ebv_in = param_in[:, 1]\n",
    "\n",
    "    sfh_in = sfh[32][np.newaxis, :]\n",
    "    sfh_in = np.tile(sfh_in, (ebv_in.shape[0], 1))\n",
    "\n",
    "    input_params = np.concatenate( (redshift_in.reshape(-1, 1), \n",
    "                                    ebv_in.reshape(-1, 1), \n",
    "                                    sfh_in) , axis=1)\n",
    "\n",
    "    sps_in = scaler.transform(input_params)\n",
    "\n",
    "    mlp_pred = mlp.predict(sps_in)\n",
    "    mags_pred = unscale(mlp_pred, scaler_y)\n",
    "\n",
    "    \n",
    "    return mags_pred"
   ]
  },
  {
   "cell_type": "code",
   "execution_count": null,
   "id": "9bef874f-f1e8-4742-ba8c-0e5c29ddf3bf",
   "metadata": {},
   "outputs": [],
   "source": [
    "def prob_color(param_in):\n",
    "    \n",
    "    '''\n",
    "    This provides p(colors|redshift, dust). But SFH is chosen (arbitrarily). \n",
    "    \n",
    "    '''\n",
    "    \n",
    "    redshift_in = param_in[:, 0]\n",
    "    ebv_in = param_in[:, 1]\n",
    "    \n",
    "    \n",
    "    sfh_id = 53\n",
    "    sfh_in = sfh[sfh_id][np.newaxis, :]\n",
    "    sfh_in = np.tile(sfh_in, (ebv_in.shape[0], 1))\n",
    "\n",
    "    input_params = np.concatenate( (redshift_in.reshape(-1, 1), \n",
    "                                    ebv_in.reshape(-1, 1), \n",
    "                                    sfh_in) , axis=1)\n",
    "\n",
    "    sps_in = scaler.transform(input_params)\n",
    "  \n",
    "    #############  \n",
    "    \n",
    "    mags_pred, _, _ = mcdrop_pred(mlp, sps_in, scaler_y)    \n",
    "    return mags_pred\n",
    "\n",
    "\n",
    "# def prob_color_all(param_in):\n",
    "    \n",
    "#     '''\n",
    "#     This provides p(colors|redshift, dust, SFH).\n",
    "    \n",
    "#     '''\n",
    "    \n",
    "#     sps_in = scaler.transform(param_in)\n",
    "#     mags_pred, _, _ = mcdrop_pred(mlp, sps_in, scaler_y) \n",
    "#     return mags_pred\n",
    "    "
   ]
  },
  {
   "cell_type": "code",
   "execution_count": null,
   "id": "24d2e62c-0cd6-4d5a-be10-de031fd3db7a",
   "metadata": {},
   "outputs": [],
   "source": [
    "param_test_unscaled = unscale(param_test, scaler)\n",
    "mlp_pred = mlp.predict(param_test_unscaled)  \n",
    "color_pred = unscale(mlp_pred, scaler_y)"
   ]
  },
  {
   "cell_type": "code",
   "execution_count": null,
   "id": "9487c2ba-a710-4891-82b1-ec85547b29d8",
   "metadata": {},
   "outputs": [],
   "source": [
    "param_train_unscaled = unscale(param_train, scaler)\n",
    "param_test_unscaled = unscale(param_test, scaler)\n",
    "\n",
    "# pcolor = prob_color(param_test_unscaled) ## wrong SFH\n",
    "mean_color = mag_forward(param_test_unscaled) ## wrong SFH\n",
    "\n",
    "# pcolor_all = prob_color_all(param_test_unscaled)\n",
    "pcolor_all = mcdrop_pred(param_test_unscaled, mlp, scaler, scaler_y)"
   ]
  },
  {
   "cell_type": "code",
   "execution_count": null,
   "id": "306a107d-ea61-400c-8ca0-c8a81bf5fd7b",
   "metadata": {},
   "outputs": [],
   "source": [
    "plt.figure(figsize = (12, 4))\n",
    "plt.plot(unscale(mag_test, scaler_y)[0:10].T, label='truth');\n",
    "plt.yscale('log')\n",
    "plt.ylim(1e0, 1e8)"
   ]
  },
  {
   "cell_type": "code",
   "execution_count": null,
   "id": "1f79e506-2c1b-49e2-acfb-0258f461532d",
   "metadata": {},
   "outputs": [],
   "source": [
    "plt.figure(figsize = (12, 4))\n",
    "# color_arr = ['blue', 'red', 'green']\n",
    "# indx = -1\n",
    "\n",
    "galID_arr =  [33, 43, 20]\n",
    "colorparams = galID_arr\n",
    "colormap = cm.viridis\n",
    "normalize = mcolors.Normalize(vmin=np.min(colorparams), vmax=np.max(colorparams))\n",
    "\n",
    "\n",
    "\n",
    "\n",
    "for galID in galID_arr:\n",
    "\n",
    "    color = colormap(normalize(galID))\n",
    "    \n",
    "    plt.plot(unscale(mag_test, scaler_y)[galID], linestyle='dotted', color = color, label='truth, galID:%d'%galID, alpha=0.9)\n",
    "    \n",
    "    plt.plot(pcolor_all[:, galID, :].T,  color = color, alpha=0.01)\n",
    "    plt.plot( np.median(pcolor_all[:, galID, :].T, axis=1),  color = color, alpha=1, label='pred, galID:%d'%galID);\n",
    "\n",
    "\n",
    "plt.ylabel('Flux per unit wavelength')\n",
    "plt.xlabel(' Restframe Wavelength (Angstrom) ')\n",
    "\n",
    "plt.yscale('log')\n",
    "plt.legend()\n",
    "plt.ylim(1e0, 2e7)\n",
    "# plt.xlim(50, 1700)"
   ]
  },
  {
   "cell_type": "code",
   "execution_count": null,
   "id": "456fabe0-ade1-481b-bccd-9b6d071316b0",
   "metadata": {},
   "outputs": [],
   "source": [
    "#### redshift variation\n",
    "\n",
    "plt.figure(figsize = (12, 4))\n",
    "\n",
    "dust_in = 0.4\n",
    "redshift_in_array = np.linspace(0.3, 2.0, 4)\n",
    "\n",
    "colorparams = redshift_in_array\n",
    "colormap = cm.viridis\n",
    "normalize = mcolors.Normalize(vmin=np.min(colorparams), vmax=np.max(colorparams))\n",
    "\n",
    "\n",
    "# indx = -1\n",
    "for redshift_in in redshift_in_array:\n",
    "    # indx+=1\n",
    "    color = colormap(normalize(redshift_in))\n",
    "\n",
    "    pcolor = prob_color( np.array([redshift_in, dust_in])[np.newaxis, :]) ## wrong SFH\n",
    "    plt.plot( np.mean(pcolor[:, 0, :].T, axis=1),  color = color, alpha=0.5, label='%.2f'%redshift_in);\n",
    "    plt.plot( pcolor[:, 0, :].T,  color = color, alpha=0.01);\n",
    "\n",
    "    \n",
    "plt.ylabel('Flux per unit wavelength')\n",
    "plt.xlabel(' Restframe Wavelength (Angstrom) ')\n",
    "\n",
    "plt.yscale('log')\n",
    "plt.legend(title='Redshift')\n",
    "plt.ylim(1e1, 1e8)"
   ]
  },
  {
   "cell_type": "code",
   "execution_count": null,
   "id": "5bcc46e2-46a7-4469-8ac5-5c30cededde1",
   "metadata": {},
   "outputs": [],
   "source": [
    "#### dust variation\n",
    "# color_arr = ['k', 'red', 'blue', 'violet', 'k', 'orange']\n",
    "\n",
    "plt.figure(figsize = (12, 4))\n",
    "\n",
    "dust_in_array = np.linspace(0.01, 5.0, 5)\n",
    "redshift_in = 0.4\n",
    "\n",
    "colorparams = dust_in_array\n",
    "colormap = cm.viridis\n",
    "normalize = mcolors.Normalize(vmin=np.min(colorparams), vmax=np.max(colorparams))\n",
    "\n",
    "\n",
    "indx = 0\n",
    "for dust_in in dust_in_array:\n",
    "    # indx+=1\n",
    "    color = colormap(normalize(dust_in))\n",
    "\n",
    "    pcolor = prob_color( np.array([redshift_in, dust_in])[np.newaxis, :]) ## wrong SFH\n",
    "    plt.plot( np.mean(pcolor[:, 0, :].T, axis=1),  color = color, alpha=0.5, label='%.2f'%dust_in);\n",
    "    plt.plot( pcolor[:, 0, :].T,  color = color, alpha=0.02);\n",
    "    \n",
    "plt.ylabel('Flux per unit wavelength')\n",
    "plt.xlabel(' Restframe Wavelength (Angstrom) ')\n",
    "\n",
    "plt.yscale('log')\n",
    "plt.legend(title='Dust E(B-V)')\n",
    "plt.ylim(1e-5, 1e8)"
   ]
  },
  {
   "cell_type": "code",
   "execution_count": null,
   "id": "cec6c6c3-3d8c-4ecf-82ec-049f940cf19d",
   "metadata": {},
   "outputs": [],
   "source": [
    "%timeit unscale(mag_test, scaler_y)[galID]"
   ]
  },
  {
   "cell_type": "code",
   "execution_count": null,
   "id": "843bb156-601a-434a-b9c0-d78e93443129",
   "metadata": {},
   "outputs": [],
   "source": []
  }
 ],
 "metadata": {
  "kernelspec": {
   "display_name": "Python 3 (ipykernel)",
   "language": "python",
   "name": "python3"
  },
  "language_info": {
   "codemirror_mode": {
    "name": "ipython",
    "version": 3
   },
   "file_extension": ".py",
   "mimetype": "text/x-python",
   "name": "python",
   "nbconvert_exporter": "python",
   "pygments_lexer": "ipython3",
   "version": "3.9.7"
  }
 },
 "nbformat": 4,
 "nbformat_minor": 5
}
